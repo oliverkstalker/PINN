{
 "cells": [
  {
   "cell_type": "markdown",
   "metadata": {},
   "source": [
    "### Class Definition"
   ]
  },
  {
   "cell_type": "code",
   "execution_count": 1,
   "metadata": {},
   "outputs": [
    {
     "name": "stderr",
     "output_type": "stream",
     "text": [
      "/Users/oliverstalker/Downloads/dev/PINN/venv/lib/python3.12/site-packages/torch/nn/modules/transformer.py:20: UserWarning: Failed to initialize NumPy: No module named 'numpy' (Triggered internally at /Users/runner/work/pytorch/pytorch/pytorch/torch/csrc/utils/tensor_numpy.cpp:84.)\n",
      "  device: torch.device = torch.device(torch._C._get_default_device()),  # torch.device('cpu'),\n"
     ]
    }
   ],
   "source": [
    "import torch\n",
    "import torch.nn as nn\n",
    "\n",
    "\n",
    "class HeatEquationNN(nn.Module):\n",
    "    def __init__(self, layers):\n",
    "        super(HeatEquationNN, self).__init__()\n",
    "        self.layers = nn.ModuleList()\n",
    "        for i in range(len(layers) - 1):\n",
    "            self.layers.append(nn.Linear(layers[i], layers[i+1]))\n",
    "    \n",
    "    def forward(self, x):\n",
    "        for i in range(len(self.layers) - 1):\n",
    "            x = torch.tanh(self.layers[i](x))\n",
    "        x = self.layers[-1](x)\n",
    "        return x\n",
    "\n",
    "# example usage:\n",
    "# model = HeatEquationNN(layers=[2, 10, 10, 1]) \n",
    "# Input Layer (2 neurons for x and t) -> 2 Hidden Layers (10 neurons each) -> Output Layer (1 neuron for u)"
   ]
  },
  {
   "cell_type": "markdown",
   "metadata": {},
   "source": [
    "### Loss Function"
   ]
  },
  {
   "cell_type": "code",
   "execution_count": 9,
   "metadata": {},
   "outputs": [],
   "source": [
    "def physics_loss(model, x, t, alpha):\n",
    "    # Ensure x and t require gradients\n",
    "    x.requires_grad = True\n",
    "    t.requires_grad = True\n",
    "    \n",
    "    u = model(torch.cat([x, t], dim=1))\n",
    "    \n",
    "    # Compute u_t\n",
    "    u_t = torch.autograd.grad(\n",
    "        outputs=u,\n",
    "        inputs=t,\n",
    "        grad_outputs=torch.ones_like(u),\n",
    "        create_graph=True,\n",
    "        retain_graph=True\n",
    "    )[0]\n",
    "    \n",
    "    # Compute u_x\n",
    "    u_x = torch.autograd.grad(\n",
    "        outputs=u,\n",
    "        inputs=x,\n",
    "        grad_outputs=torch.ones_like(u),\n",
    "        create_graph=True,\n",
    "        retain_graph=True\n",
    "    )[0]\n",
    "    \n",
    "    # Compute u_xx\n",
    "    u_xx = torch.autograd.grad(\n",
    "        outputs=u_x,\n",
    "        inputs=x,\n",
    "        grad_outputs=torch.ones_like(u_x),\n",
    "        create_graph=True,\n",
    "        retain_graph=True\n",
    "    )[0]\n",
    "    \n",
    "    # Physics residual\n",
    "    physics_residual = u_t - alpha * u_xx\n",
    "    return torch.mean(physics_residual**2)\n"
   ]
  },
  {
   "cell_type": "markdown",
   "metadata": {},
   "source": [
    "### Supplemental Data Generation"
   ]
  },
  {
   "cell_type": "code",
   "execution_count": 10,
   "metadata": {},
   "outputs": [
    {
     "name": "stdout",
     "output_type": "stream",
     "text": [
      "x_data shape: torch.Size([1010101, 1])\n",
      "t_data shape: torch.Size([1010101, 1])\n",
      "u_data shape: torch.Size([1010101, 1])\n"
     ]
    }
   ],
   "source": [
    "import numpy as np\n",
    "\n",
    "alpha = 0.01    # thermal diffusivity\n",
    "L = 1.0         # length of the rod\n",
    "T = 1.0        # total time\n",
    "dx = 0.01      # spatial resolution (step size)\n",
    "dt = 0.0001   # temporal resolution\n",
    "\n",
    "# Discretized space and time\n",
    "x = np.arange(0, L + dx, dx)\n",
    "t = np.arange(0, T + dt, dt)\n",
    "\n",
    "# initial conditions sin(pi * x)\n",
    "u_initial = np.sin(np.pi * x)\n",
    "\n",
    "# Boundary Conditions: u(0, t) = u(L, t) = 0\n",
    "u = np.zeros((len(t), len(x)))\n",
    "u[0, :] = u_initial\n",
    "\n",
    "# Finite Differences method to solve the heat equation\n",
    "for i in range(1, len(t)):\n",
    "    for j in range(1, len(x) - 1):\n",
    "        u[i, j] = u[i-1, j] + alpha * dt / dx**2 * (u[i-1, j+1] - 2 * u[i-1, j] + u[i-1, j-1])\n",
    "\n",
    "# Training data\n",
    "X, T = np.meshgrid(x, t)\n",
    "X = X.flatten()[:, None]\n",
    "T = T.flatten()[:, None]\n",
    "U = u.flatten()[:, None]\n",
    "\n",
    "# convert to tensors\n",
    "x_data = torch.tensor(X, dtype=torch.float32, requires_grad=True)\n",
    "t_data = torch.tensor(T, dtype=torch.float32, requires_grad=True)\n",
    "u_data = torch.tensor(U, dtype=torch.float32)\n",
    "\n",
    "# Example of the data shapes\n",
    "print(f'x_data shape: {x_data.shape}')\n",
    "print(f't_data shape: {t_data.shape}')\n",
    "print(f'u_data shape: {u_data.shape}')"
   ]
  },
  {
   "cell_type": "markdown",
   "metadata": {},
   "source": [
    "### Training Loop"
   ]
  },
  {
   "cell_type": "code",
   "execution_count": 20,
   "metadata": {},
   "outputs": [
    {
     "name": "stdout",
     "output_type": "stream",
     "text": [
      "Epoch 0, Loss: 0.3285936117172241\n",
      "Epoch 1, Loss: 0.14465053379535675\n",
      "Epoch 2, Loss: 0.08950342983007431\n",
      "Epoch 3, Loss: 0.120226189494133\n",
      "Epoch 4, Loss: 0.13588453829288483\n",
      "Epoch 5, Loss: 0.11892596632242203\n",
      "Epoch 6, Loss: 0.09903435409069061\n",
      "Epoch 7, Loss: 0.09226763248443604\n",
      "Epoch 8, Loss: 0.09703797847032547\n",
      "Epoch 9, Loss: 0.10409684479236603\n"
     ]
    }
   ],
   "source": [
    "import torch.optim as optim\n",
    "import matplotlib.pyplot as plt\n",
    "model = HeatEquationNN(layers=[2, 20, 20, 20, 1])\n",
    "optimizer = optim.Adam(model.parameters(), lr=0.01)\n",
    "alpha = 0.01 # diffusion coefficient\n",
    "\n",
    "def plot_training_losses(losses):\n",
    "    plt.figure(figsize=(10, 5))\n",
    "    plt.plot(losses, label='Loss')\n",
    "    plt.xlabel('Epochs')\n",
    "    plt.ylabel('Loss')\n",
    "    plt.title(\"Training Losses over Epochs\")\n",
    "    plt.legend()\n",
    "    plt.show()\n",
    "\n",
    "losses = []\n",
    "for epoch in range(10):\n",
    "    optimizer.zero_grad()\n",
    "    \n",
    "    # prediction\n",
    "    u_pred = model(torch.cat([x_data, t_data], dim=1))\n",
    "\n",
    "    # Data loss\n",
    "    data_loss = torch.mean((u_data - u_pred)**2)\n",
    "\n",
    "    # Physics loss\n",
    "    physics_loss_val = physics_loss(model, x_data, t_data, alpha)\n",
    "\n",
    "    # Total loss\n",
    "    loss = data_loss + physics_loss_val\n",
    "    loss.backward()\n",
    "    optimizer.step()\n",
    "    \n",
    "    losses.append(loss.item())\n",
    "\n",
    "    if epoch % 1 == 0:\n",
    "        print(f\"Epoch {epoch}, Loss: {loss.item()}\")"
   ]
  },
  {
   "cell_type": "markdown",
   "metadata": {},
   "source": [
    "### Evaluation"
   ]
  },
  {
   "cell_type": "code",
   "execution_count": 21,
   "metadata": {},
   "outputs": [
    {
     "data": {
      "image/png": "[encoded data removed]",
      "text/plain": [
       "<Figure size 1000x500 with 1 Axes>"
      ]
     },
     "metadata": {},
     "output_type": "display_data"
    }
   ],
   "source": [
    "plot_training_losses(losses)"
   ]
  }
 ],
 "metadata": {
  "kernelspec": {
   "display_name": "venv",
   "language": "python",
   "name": "python3"
  },
  "language_info": {
   "codemirror_mode": {
    "name": "ipython",
    "version": 3
   },
   "file_extension": ".py",
   "mimetype": "text/x-python",
   "name": "python",
   "nbconvert_exporter": "python",
   "pygments_lexer": "ipython3",
   "version": "3.12.4"
  }
 },
 "nbformat": 4,
 "nbformat_minor": 2
}
